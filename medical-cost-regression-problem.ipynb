{
 "cells": [
  {
   "cell_type": "code",
   "execution_count": 1,
   "id": "a4b93dcf",
   "metadata": {
    "_cell_guid": "b1076dfc-b9ad-4769-8c92-a6c4dae69d19",
    "_uuid": "8f2839f25d086af736a60e9eeb907d3b93b6e0e5",
    "execution": {
     "iopub.execute_input": "2024-09-11T16:50:39.394621Z",
     "iopub.status.busy": "2024-09-11T16:50:39.393503Z",
     "iopub.status.idle": "2024-09-11T16:50:40.285499Z",
     "shell.execute_reply": "2024-09-11T16:50:40.284370Z"
    },
    "papermill": {
     "duration": 0.904529,
     "end_time": "2024-09-11T16:50:40.288048",
     "exception": false,
     "start_time": "2024-09-11T16:50:39.383519",
     "status": "completed"
    },
    "tags": []
   },
   "outputs": [
    {
     "name": "stdout",
     "output_type": "stream",
     "text": [
      "/kaggle/input/medical-cost/dataset_.csv\n"
     ]
    }
   ],
   "source": [
    "# This Python 3 environment comes with many helpful analytics libraries installed\n",
    "# It is defined by the kaggle/python Docker image: https://github.com/kaggle/docker-python\n",
    "# For example, here's several helpful packages to load\n",
    "\n",
    "import numpy as np # linear algebra\n",
    "import pandas as pd # data processing, CSV file I/O (e.g. pd.read_csv)\n",
    "\n",
    "# Input data files are available in the read-only \"../input/\" directory\n",
    "# For example, running this (by clicking run or pressing Shift+Enter) will list all files under the input directory\n",
    "\n",
    "import os\n",
    "for dirname, _, filenames in os.walk('/kaggle/input'):\n",
    "    for filename in filenames:\n",
    "        print(os.path.join(dirname, filename))\n",
    "\n",
    "# You can write up to 20GB to the current directory (/kaggle/working/) that gets preserved as output when you create a version using \"Save & Run All\" \n",
    "# You can also write temporary files to /kaggle/temp/, but they won't be saved outside of the current session"
   ]
  },
  {
   "cell_type": "code",
   "execution_count": 2,
   "id": "cb34f38a",
   "metadata": {
    "execution": {
     "iopub.execute_input": "2024-09-11T16:50:40.305463Z",
     "iopub.status.busy": "2024-09-11T16:50:40.304959Z",
     "iopub.status.idle": "2024-09-11T16:50:40.329557Z",
     "shell.execute_reply": "2024-09-11T16:50:40.328615Z"
    },
    "papermill": {
     "duration": 0.036497,
     "end_time": "2024-09-11T16:50:40.332318",
     "exception": false,
     "start_time": "2024-09-11T16:50:40.295821",
     "status": "completed"
    },
    "tags": []
   },
   "outputs": [],
   "source": [
    "df = pd.read_csv('/kaggle/input/medical-cost/dataset_.csv')"
   ]
  },
  {
   "cell_type": "code",
   "execution_count": 3,
   "id": "4a56c55d",
   "metadata": {
    "execution": {
     "iopub.execute_input": "2024-09-11T16:50:40.349200Z",
     "iopub.status.busy": "2024-09-11T16:50:40.348719Z",
     "iopub.status.idle": "2024-09-11T16:50:40.375409Z",
     "shell.execute_reply": "2024-09-11T16:50:40.374324Z"
    },
    "papermill": {
     "duration": 0.037982,
     "end_time": "2024-09-11T16:50:40.377904",
     "exception": false,
     "start_time": "2024-09-11T16:50:40.339922",
     "status": "completed"
    },
    "tags": []
   },
   "outputs": [
    {
     "data": {
      "text/html": [
       "<div>\n",
       "<style scoped>\n",
       "    .dataframe tbody tr th:only-of-type {\n",
       "        vertical-align: middle;\n",
       "    }\n",
       "\n",
       "    .dataframe tbody tr th {\n",
       "        vertical-align: top;\n",
       "    }\n",
       "\n",
       "    .dataframe thead th {\n",
       "        text-align: right;\n",
       "    }\n",
       "</style>\n",
       "<table border=\"1\" class=\"dataframe\">\n",
       "  <thead>\n",
       "    <tr style=\"text-align: right;\">\n",
       "      <th></th>\n",
       "      <th>age</th>\n",
       "      <th>sex</th>\n",
       "      <th>bmi</th>\n",
       "      <th>children</th>\n",
       "      <th>smoker</th>\n",
       "      <th>region</th>\n",
       "      <th>medical charges</th>\n",
       "    </tr>\n",
       "  </thead>\n",
       "  <tbody>\n",
       "    <tr>\n",
       "      <th>0</th>\n",
       "      <td>19</td>\n",
       "      <td>female</td>\n",
       "      <td>27.900</td>\n",
       "      <td>0</td>\n",
       "      <td>yes</td>\n",
       "      <td>southwest</td>\n",
       "      <td>16884.92400</td>\n",
       "    </tr>\n",
       "    <tr>\n",
       "      <th>1</th>\n",
       "      <td>18</td>\n",
       "      <td>male</td>\n",
       "      <td>33.770</td>\n",
       "      <td>1</td>\n",
       "      <td>no</td>\n",
       "      <td>southeast</td>\n",
       "      <td>1725.55230</td>\n",
       "    </tr>\n",
       "    <tr>\n",
       "      <th>2</th>\n",
       "      <td>28</td>\n",
       "      <td>male</td>\n",
       "      <td>33.000</td>\n",
       "      <td>3</td>\n",
       "      <td>no</td>\n",
       "      <td>southeast</td>\n",
       "      <td>4449.46200</td>\n",
       "    </tr>\n",
       "    <tr>\n",
       "      <th>3</th>\n",
       "      <td>33</td>\n",
       "      <td>male</td>\n",
       "      <td>22.705</td>\n",
       "      <td>0</td>\n",
       "      <td>no</td>\n",
       "      <td>northwest</td>\n",
       "      <td>21984.47061</td>\n",
       "    </tr>\n",
       "    <tr>\n",
       "      <th>4</th>\n",
       "      <td>32</td>\n",
       "      <td>male</td>\n",
       "      <td>28.880</td>\n",
       "      <td>0</td>\n",
       "      <td>no</td>\n",
       "      <td>northwest</td>\n",
       "      <td>3866.85520</td>\n",
       "    </tr>\n",
       "  </tbody>\n",
       "</table>\n",
       "</div>"
      ],
      "text/plain": [
       "   age     sex     bmi  children smoker     region  medical charges\n",
       "0   19  female  27.900         0    yes  southwest      16884.92400\n",
       "1   18    male  33.770         1     no  southeast       1725.55230\n",
       "2   28    male  33.000         3     no  southeast       4449.46200\n",
       "3   33    male  22.705         0     no  northwest      21984.47061\n",
       "4   32    male  28.880         0     no  northwest       3866.85520"
      ]
     },
     "execution_count": 3,
     "metadata": {},
     "output_type": "execute_result"
    }
   ],
   "source": [
    "df.head()"
   ]
  },
  {
   "cell_type": "code",
   "execution_count": 4,
   "id": "485ed5d2",
   "metadata": {
    "execution": {
     "iopub.execute_input": "2024-09-11T16:50:40.395808Z",
     "iopub.status.busy": "2024-09-11T16:50:40.395040Z",
     "iopub.status.idle": "2024-09-11T16:50:40.406670Z",
     "shell.execute_reply": "2024-09-11T16:50:40.405574Z"
    },
    "papermill": {
     "duration": 0.02302,
     "end_time": "2024-09-11T16:50:40.409001",
     "exception": false,
     "start_time": "2024-09-11T16:50:40.385981",
     "status": "completed"
    },
    "tags": []
   },
   "outputs": [
    {
     "data": {
      "text/plain": [
       "age                0\n",
       "sex                0\n",
       "bmi                0\n",
       "children           0\n",
       "smoker             0\n",
       "region             0\n",
       "medical charges    0\n",
       "dtype: int64"
      ]
     },
     "execution_count": 4,
     "metadata": {},
     "output_type": "execute_result"
    }
   ],
   "source": [
    "df.isnull().sum()"
   ]
  },
  {
   "cell_type": "code",
   "execution_count": 5,
   "id": "afb2431b",
   "metadata": {
    "execution": {
     "iopub.execute_input": "2024-09-11T16:50:40.427066Z",
     "iopub.status.busy": "2024-09-11T16:50:40.426707Z",
     "iopub.status.idle": "2024-09-11T16:50:40.439670Z",
     "shell.execute_reply": "2024-09-11T16:50:40.438669Z"
    },
    "papermill": {
     "duration": 0.024791,
     "end_time": "2024-09-11T16:50:40.441966",
     "exception": false,
     "start_time": "2024-09-11T16:50:40.417175",
     "status": "completed"
    },
    "tags": []
   },
   "outputs": [
    {
     "data": {
      "text/plain": [
       "1"
      ]
     },
     "execution_count": 5,
     "metadata": {},
     "output_type": "execute_result"
    }
   ],
   "source": [
    "df.duplicated().sum()"
   ]
  },
  {
   "cell_type": "code",
   "execution_count": 6,
   "id": "b86081d8",
   "metadata": {
    "execution": {
     "iopub.execute_input": "2024-09-11T16:50:40.460099Z",
     "iopub.status.busy": "2024-09-11T16:50:40.459745Z",
     "iopub.status.idle": "2024-09-11T16:50:40.471893Z",
     "shell.execute_reply": "2024-09-11T16:50:40.470820Z"
    },
    "papermill": {
     "duration": 0.024168,
     "end_time": "2024-09-11T16:50:40.474469",
     "exception": false,
     "start_time": "2024-09-11T16:50:40.450301",
     "status": "completed"
    },
    "tags": []
   },
   "outputs": [],
   "source": [
    "df.drop_duplicates(inplace = True)"
   ]
  },
  {
   "cell_type": "code",
   "execution_count": 7,
   "id": "528db998",
   "metadata": {
    "execution": {
     "iopub.execute_input": "2024-09-11T16:50:40.493062Z",
     "iopub.status.busy": "2024-09-11T16:50:40.492688Z",
     "iopub.status.idle": "2024-09-11T16:50:40.510141Z",
     "shell.execute_reply": "2024-09-11T16:50:40.509047Z"
    },
    "papermill": {
     "duration": 0.029903,
     "end_time": "2024-09-11T16:50:40.512824",
     "exception": false,
     "start_time": "2024-09-11T16:50:40.482921",
     "status": "completed"
    },
    "tags": []
   },
   "outputs": [
    {
     "name": "stdout",
     "output_type": "stream",
     "text": [
      "<class 'pandas.core.frame.DataFrame'>\n",
      "Index: 1337 entries, 0 to 1337\n",
      "Data columns (total 7 columns):\n",
      " #   Column           Non-Null Count  Dtype  \n",
      "---  ------           --------------  -----  \n",
      " 0   age              1337 non-null   int64  \n",
      " 1   sex              1337 non-null   object \n",
      " 2   bmi              1337 non-null   float64\n",
      " 3   children         1337 non-null   int64  \n",
      " 4   smoker           1337 non-null   object \n",
      " 5   region           1337 non-null   object \n",
      " 6   medical charges  1337 non-null   float64\n",
      "dtypes: float64(2), int64(2), object(3)\n",
      "memory usage: 83.6+ KB\n"
     ]
    }
   ],
   "source": [
    "df.info()"
   ]
  },
  {
   "cell_type": "markdown",
   "id": "1568487a",
   "metadata": {
    "papermill": {
     "duration": 0.008079,
     "end_time": "2024-09-11T16:50:40.529377",
     "exception": false,
     "start_time": "2024-09-11T16:50:40.521298",
     "status": "completed"
    },
    "tags": []
   },
   "source": [
    "# Exploratory Data Analysis"
   ]
  },
  {
   "cell_type": "code",
   "execution_count": 8,
   "id": "0dc57c41",
   "metadata": {
    "execution": {
     "iopub.execute_input": "2024-09-11T16:50:40.547953Z",
     "iopub.status.busy": "2024-09-11T16:50:40.547178Z",
     "iopub.status.idle": "2024-09-11T16:50:41.876218Z",
     "shell.execute_reply": "2024-09-11T16:50:41.875268Z"
    },
    "papermill": {
     "duration": 1.341405,
     "end_time": "2024-09-11T16:50:41.878975",
     "exception": false,
     "start_time": "2024-09-11T16:50:40.537570",
     "status": "completed"
    },
    "tags": []
   },
   "outputs": [],
   "source": [
    "import matplotlib.pyplot as plt\n",
    "import seaborn as sns"
   ]
  },
  {
   "cell_type": "code",
   "execution_count": 9,
   "id": "9c013dd3",
   "metadata": {
    "execution": {
     "iopub.execute_input": "2024-09-11T16:50:41.897557Z",
     "iopub.status.busy": "2024-09-11T16:50:41.897132Z",
     "iopub.status.idle": "2024-09-11T16:50:42.134607Z",
     "shell.execute_reply": "2024-09-11T16:50:42.133520Z"
    },
    "papermill": {
     "duration": 0.250142,
     "end_time": "2024-09-11T16:50:42.137711",
     "exception": false,
     "start_time": "2024-09-11T16:50:41.887569",
     "status": "completed"
    },
    "tags": []
   },
   "outputs": [
    {
     "data": {
      "text/plain": [
       "<Axes: >"
      ]
     },
     "execution_count": 9,
     "metadata": {},
     "output_type": "execute_result"
    },
    {
     "data": {
      "image/png": "[encoded data removed]",
      "text/plain": [
       "<Figure size 640x480 with 1 Axes>"
      ]
     },
     "metadata": {},
     "output_type": "display_data"
    }
   ],
   "source": [
    "sns.boxplot(df['age'])"
   ]
  },
  {
   "cell_type": "code",
   "execution_count": 10,
   "id": "be5224a4",
   "metadata": {
    "execution": {
     "iopub.execute_input": "2024-09-11T16:50:42.158620Z",
     "iopub.status.busy": "2024-09-11T16:50:42.157483Z",
     "iopub.status.idle": "2024-09-11T16:50:42.517682Z",
     "shell.execute_reply": "2024-09-11T16:50:42.515891Z"
    },
    "papermill": {
     "duration": 0.373666,
     "end_time": "2024-09-11T16:50:42.520929",
     "exception": false,
     "start_time": "2024-09-11T16:50:42.147263",
     "status": "completed"
    },
    "tags": []
   },
   "outputs": [
    {
     "data": {
      "text/plain": [
       "<Axes: xlabel='sex'>"
      ]
     },
     "execution_count": 10,
     "metadata": {},
     "output_type": "execute_result"
    },
    {
     "data": {
      "image/png": "[encoded data removed]",
      "text/plain": [
       "<Figure size 640x480 with 1 Axes>"
      ]
     },
     "metadata": {},
     "output_type": "display_data"
    }
   ],
   "source": [
    "df['sex'].value_counts().plot(kind = 'bar')"
   ]
  },
  {
   "cell_type": "code",
   "execution_count": 11,
   "id": "434d80cd",
   "metadata": {
    "execution": {
     "iopub.execute_input": "2024-09-11T16:50:42.546257Z",
     "iopub.status.busy": "2024-09-11T16:50:42.545831Z",
     "iopub.status.idle": "2024-09-11T16:50:42.821740Z",
     "shell.execute_reply": "2024-09-11T16:50:42.820194Z"
    },
    "papermill": {
     "duration": 0.290571,
     "end_time": "2024-09-11T16:50:42.824163",
     "exception": false,
     "start_time": "2024-09-11T16:50:42.533592",
     "status": "completed"
    },
    "tags": []
   },
   "outputs": [
    {
     "data": {
      "text/plain": [
       "<Axes: xlabel='children'>"
      ]
     },
     "execution_count": 11,
     "metadata": {},
     "output_type": "execute_result"
    },
    {
     "data": {
      "image/png": "[encoded data removed]",
      "text/plain": [
       "<Figure size 640x480 with 1 Axes>"
      ]
     },
     "metadata": {},
     "output_type": "display_data"
    }
   ],
   "source": [
    "df['children'].value_counts().plot(kind = 'bar')"
   ]
  },
  {
   "cell_type": "code",
   "execution_count": 12,
   "id": "ae556915",
   "metadata": {
    "execution": {
     "iopub.execute_input": "2024-09-11T16:50:42.846051Z",
     "iopub.status.busy": "2024-09-11T16:50:42.845152Z",
     "iopub.status.idle": "2024-09-11T16:50:43.102397Z",
     "shell.execute_reply": "2024-09-11T16:50:43.101288Z"
    },
    "papermill": {
     "duration": 0.271136,
     "end_time": "2024-09-11T16:50:43.104845",
     "exception": false,
     "start_time": "2024-09-11T16:50:42.833709",
     "status": "completed"
    },
    "tags": []
   },
   "outputs": [
    {
     "data": {
      "text/plain": [
       "<Axes: xlabel='region'>"
      ]
     },
     "execution_count": 12,
     "metadata": {},
     "output_type": "execute_result"
    },
    {
     "data": {
      "image/png": "[encoded data removed]",
      "text/plain": [
       "<Figure size 640x480 with 1 Axes>"
      ]
     },
     "metadata": {},
     "output_type": "display_data"
    }
   ],
   "source": [
    "df['region'].value_counts().plot(kind = 'bar')"
   ]
  },
  {
   "cell_type": "code",
   "execution_count": 13,
   "id": "b75e2cc3",
   "metadata": {
    "execution": {
     "iopub.execute_input": "2024-09-11T16:50:43.126658Z",
     "iopub.status.busy": "2024-09-11T16:50:43.126262Z",
     "iopub.status.idle": "2024-09-11T16:50:43.356273Z",
     "shell.execute_reply": "2024-09-11T16:50:43.355277Z"
    },
    "papermill": {
     "duration": 0.243806,
     "end_time": "2024-09-11T16:50:43.358838",
     "exception": false,
     "start_time": "2024-09-11T16:50:43.115032",
     "status": "completed"
    },
    "tags": []
   },
   "outputs": [
    {
     "data": {
      "text/plain": [
       "<Axes: xlabel='smoker'>"
      ]
     },
     "execution_count": 13,
     "metadata": {},
     "output_type": "execute_result"
    },
    {
     "data": {
      "image/png": "[encoded data removed]",
      "text/plain": [
       "<Figure size 640x480 with 1 Axes>"
      ]
     },
     "metadata": {},
     "output_type": "display_data"
    }
   ],
   "source": [
    "df['smoker'].value_counts().plot(kind = 'bar')"
   ]
  },
  {
   "cell_type": "code",
   "execution_count": 14,
   "id": "de5d1932",
   "metadata": {
    "execution": {
     "iopub.execute_input": "2024-09-11T16:50:43.381603Z",
     "iopub.status.busy": "2024-09-11T16:50:43.381214Z",
     "iopub.status.idle": "2024-09-11T16:50:43.606319Z",
     "shell.execute_reply": "2024-09-11T16:50:43.605052Z"
    },
    "papermill": {
     "duration": 0.239533,
     "end_time": "2024-09-11T16:50:43.608839",
     "exception": false,
     "start_time": "2024-09-11T16:50:43.369306",
     "status": "completed"
    },
    "tags": []
   },
   "outputs": [
    {
     "data": {
      "text/plain": [
       "<Axes: >"
      ]
     },
     "execution_count": 14,
     "metadata": {},
     "output_type": "execute_result"
    },
    {
     "data": {
      "image/png": "[encoded data removed]",
      "text/plain": [
       "<Figure size 640x480 with 1 Axes>"
      ]
     },
     "metadata": {},
     "output_type": "display_data"
    }
   ],
   "source": [
    "sns.boxplot(df['medical charges'])"
   ]
  },
  {
   "cell_type": "code",
   "execution_count": 15,
   "id": "c0a1ecd8",
   "metadata": {
    "execution": {
     "iopub.execute_input": "2024-09-11T16:50:43.633291Z",
     "iopub.status.busy": "2024-09-11T16:50:43.632875Z",
     "iopub.status.idle": "2024-09-11T16:50:43.656124Z",
     "shell.execute_reply": "2024-09-11T16:50:43.655095Z"
    },
    "papermill": {
     "duration": 0.038628,
     "end_time": "2024-09-11T16:50:43.658512",
     "exception": false,
     "start_time": "2024-09-11T16:50:43.619884",
     "status": "completed"
    },
    "tags": []
   },
   "outputs": [
    {
     "name": "stdout",
     "output_type": "stream",
     "text": [
      "25th Percentile: 4746.344\n",
      "75th Percentile: 16657.71745\n",
      "Upper Limit: 34524.777625 Lower Limit: -13120.716174999998\n"
     ]
    },
    {
     "data": {
      "text/html": [
       "<div>\n",
       "<style scoped>\n",
       "    .dataframe tbody tr th:only-of-type {\n",
       "        vertical-align: middle;\n",
       "    }\n",
       "\n",
       "    .dataframe tbody tr th {\n",
       "        vertical-align: top;\n",
       "    }\n",
       "\n",
       "    .dataframe thead th {\n",
       "        text-align: right;\n",
       "    }\n",
       "</style>\n",
       "<table border=\"1\" class=\"dataframe\">\n",
       "  <thead>\n",
       "    <tr style=\"text-align: right;\">\n",
       "      <th></th>\n",
       "      <th>age</th>\n",
       "      <th>sex</th>\n",
       "      <th>bmi</th>\n",
       "      <th>children</th>\n",
       "      <th>smoker</th>\n",
       "      <th>region</th>\n",
       "      <th>medical charges</th>\n",
       "    </tr>\n",
       "  </thead>\n",
       "  <tbody>\n",
       "    <tr>\n",
       "      <th>0</th>\n",
       "      <td>19</td>\n",
       "      <td>female</td>\n",
       "      <td>27.900</td>\n",
       "      <td>0</td>\n",
       "      <td>yes</td>\n",
       "      <td>southwest</td>\n",
       "      <td>16884.92400</td>\n",
       "    </tr>\n",
       "    <tr>\n",
       "      <th>1</th>\n",
       "      <td>18</td>\n",
       "      <td>male</td>\n",
       "      <td>33.770</td>\n",
       "      <td>1</td>\n",
       "      <td>no</td>\n",
       "      <td>southeast</td>\n",
       "      <td>1725.55230</td>\n",
       "    </tr>\n",
       "    <tr>\n",
       "      <th>2</th>\n",
       "      <td>28</td>\n",
       "      <td>male</td>\n",
       "      <td>33.000</td>\n",
       "      <td>3</td>\n",
       "      <td>no</td>\n",
       "      <td>southeast</td>\n",
       "      <td>4449.46200</td>\n",
       "    </tr>\n",
       "    <tr>\n",
       "      <th>3</th>\n",
       "      <td>33</td>\n",
       "      <td>male</td>\n",
       "      <td>22.705</td>\n",
       "      <td>0</td>\n",
       "      <td>no</td>\n",
       "      <td>northwest</td>\n",
       "      <td>21984.47061</td>\n",
       "    </tr>\n",
       "    <tr>\n",
       "      <th>4</th>\n",
       "      <td>32</td>\n",
       "      <td>male</td>\n",
       "      <td>28.880</td>\n",
       "      <td>0</td>\n",
       "      <td>no</td>\n",
       "      <td>northwest</td>\n",
       "      <td>3866.85520</td>\n",
       "    </tr>\n",
       "  </tbody>\n",
       "</table>\n",
       "</div>"
      ],
      "text/plain": [
       "   age     sex     bmi  children smoker     region  medical charges\n",
       "0   19  female  27.900         0    yes  southwest      16884.92400\n",
       "1   18    male  33.770         1     no  southeast       1725.55230\n",
       "2   28    male  33.000         3     no  southeast       4449.46200\n",
       "3   33    male  22.705         0     no  northwest      21984.47061\n",
       "4   32    male  28.880         0     no  northwest       3866.85520"
      ]
     },
     "execution_count": 15,
     "metadata": {},
     "output_type": "execute_result"
    }
   ],
   "source": [
    "# 25th and 75th percentiles\n",
    "percentile25 = df['medical charges'].quantile(0.25)\n",
    "print(\"25th Percentile:\", percentile25)\n",
    "\n",
    "percentile75 = df['medical charges'].quantile(0.75)\n",
    "print(\"75th Percentile:\", percentile75)\n",
    "\n",
    "# interquartile range (IQR)\n",
    "iqr = percentile75 - percentile25\n",
    "\n",
    "# upper and lower limits for outliers\n",
    "uplimit = percentile75 + 1.5 * iqr\n",
    "lolimit = percentile25 - 1.5 * iqr\n",
    "print(\"Upper Limit:\", uplimit, \"Lower Limit:\", lolimit)\n",
    "\n",
    "# Capping the outliers\n",
    "new_df = df.copy()\n",
    "new_df['medical charges'] = np.where(\n",
    "    new_df['medical charges'] > uplimit, uplimit,\n",
    "    np.where(new_df['medical charges'] < lolimit, lolimit, new_df['medical charges'])\n",
    ")\n",
    "\n",
    "new_df.head()"
   ]
  },
  {
   "cell_type": "code",
   "execution_count": 16,
   "id": "bf3df698",
   "metadata": {
    "execution": {
     "iopub.execute_input": "2024-09-11T16:50:43.683737Z",
     "iopub.status.busy": "2024-09-11T16:50:43.683018Z",
     "iopub.status.idle": "2024-09-11T16:50:43.688724Z",
     "shell.execute_reply": "2024-09-11T16:50:43.687682Z"
    },
    "papermill": {
     "duration": 0.021192,
     "end_time": "2024-09-11T16:50:43.691068",
     "exception": false,
     "start_time": "2024-09-11T16:50:43.669876",
     "status": "completed"
    },
    "tags": []
   },
   "outputs": [],
   "source": [
    "df = new_df.copy()"
   ]
  },
  {
   "cell_type": "code",
   "execution_count": 17,
   "id": "24363815",
   "metadata": {
    "execution": {
     "iopub.execute_input": "2024-09-11T16:50:43.717123Z",
     "iopub.status.busy": "2024-09-11T16:50:43.715972Z",
     "iopub.status.idle": "2024-09-11T16:50:43.730623Z",
     "shell.execute_reply": "2024-09-11T16:50:43.729578Z"
    },
    "papermill": {
     "duration": 0.030528,
     "end_time": "2024-09-11T16:50:43.733134",
     "exception": false,
     "start_time": "2024-09-11T16:50:43.702606",
     "status": "completed"
    },
    "tags": []
   },
   "outputs": [
    {
     "data": {
      "text/html": [
       "<div>\n",
       "<style scoped>\n",
       "    .dataframe tbody tr th:only-of-type {\n",
       "        vertical-align: middle;\n",
       "    }\n",
       "\n",
       "    .dataframe tbody tr th {\n",
       "        vertical-align: top;\n",
       "    }\n",
       "\n",
       "    .dataframe thead th {\n",
       "        text-align: right;\n",
       "    }\n",
       "</style>\n",
       "<table border=\"1\" class=\"dataframe\">\n",
       "  <thead>\n",
       "    <tr style=\"text-align: right;\">\n",
       "      <th></th>\n",
       "      <th>age</th>\n",
       "      <th>sex</th>\n",
       "      <th>bmi</th>\n",
       "      <th>children</th>\n",
       "      <th>smoker</th>\n",
       "      <th>region</th>\n",
       "      <th>medical charges</th>\n",
       "    </tr>\n",
       "  </thead>\n",
       "  <tbody>\n",
       "    <tr>\n",
       "      <th>0</th>\n",
       "      <td>19</td>\n",
       "      <td>female</td>\n",
       "      <td>27.900</td>\n",
       "      <td>0</td>\n",
       "      <td>yes</td>\n",
       "      <td>southwest</td>\n",
       "      <td>16884.92400</td>\n",
       "    </tr>\n",
       "    <tr>\n",
       "      <th>1</th>\n",
       "      <td>18</td>\n",
       "      <td>male</td>\n",
       "      <td>33.770</td>\n",
       "      <td>1</td>\n",
       "      <td>no</td>\n",
       "      <td>southeast</td>\n",
       "      <td>1725.55230</td>\n",
       "    </tr>\n",
       "    <tr>\n",
       "      <th>2</th>\n",
       "      <td>28</td>\n",
       "      <td>male</td>\n",
       "      <td>33.000</td>\n",
       "      <td>3</td>\n",
       "      <td>no</td>\n",
       "      <td>southeast</td>\n",
       "      <td>4449.46200</td>\n",
       "    </tr>\n",
       "    <tr>\n",
       "      <th>3</th>\n",
       "      <td>33</td>\n",
       "      <td>male</td>\n",
       "      <td>22.705</td>\n",
       "      <td>0</td>\n",
       "      <td>no</td>\n",
       "      <td>northwest</td>\n",
       "      <td>21984.47061</td>\n",
       "    </tr>\n",
       "    <tr>\n",
       "      <th>4</th>\n",
       "      <td>32</td>\n",
       "      <td>male</td>\n",
       "      <td>28.880</td>\n",
       "      <td>0</td>\n",
       "      <td>no</td>\n",
       "      <td>northwest</td>\n",
       "      <td>3866.85520</td>\n",
       "    </tr>\n",
       "  </tbody>\n",
       "</table>\n",
       "</div>"
      ],
      "text/plain": [
       "   age     sex     bmi  children smoker     region  medical charges\n",
       "0   19  female  27.900         0    yes  southwest      16884.92400\n",
       "1   18    male  33.770         1     no  southeast       1725.55230\n",
       "2   28    male  33.000         3     no  southeast       4449.46200\n",
       "3   33    male  22.705         0     no  northwest      21984.47061\n",
       "4   32    male  28.880         0     no  northwest       3866.85520"
      ]
     },
     "execution_count": 17,
     "metadata": {},
     "output_type": "execute_result"
    }
   ],
   "source": [
    "df.head()"
   ]
  },
  {
   "cell_type": "markdown",
   "id": "1eec22fd",
   "metadata": {
    "papermill": {
     "duration": 0.011528,
     "end_time": "2024-09-11T16:50:43.756397",
     "exception": false,
     "start_time": "2024-09-11T16:50:43.744869",
     "status": "completed"
    },
    "tags": []
   },
   "source": [
    "# Linear Regression"
   ]
  },
  {
   "cell_type": "code",
   "execution_count": 18,
   "id": "b885eda1",
   "metadata": {
    "execution": {
     "iopub.execute_input": "2024-09-11T16:50:43.781072Z",
     "iopub.status.busy": "2024-09-11T16:50:43.780681Z",
     "iopub.status.idle": "2024-09-11T16:50:44.181425Z",
     "shell.execute_reply": "2024-09-11T16:50:44.180181Z"
    },
    "papermill": {
     "duration": 0.416736,
     "end_time": "2024-09-11T16:50:44.184580",
     "exception": false,
     "start_time": "2024-09-11T16:50:43.767844",
     "status": "completed"
    },
    "tags": []
   },
   "outputs": [
    {
     "name": "stdout",
     "output_type": "stream",
     "text": [
      "Mean Squared Error: 20913453.804241873\n",
      "Mean Absolute Error: 3148.8373898312543\n",
      "R2 Score: 0.8210286113815228\n"
     ]
    },
    {
     "name": "stderr",
     "output_type": "stream",
     "text": [
      "/opt/conda/lib/python3.10/site-packages/sklearn/preprocessing/_encoders.py:868: FutureWarning: `sparse` was renamed to `sparse_output` in version 1.2 and will be removed in 1.4. `sparse_output` is ignored unless you leave `sparse` to its default value.\n",
      "  warnings.warn(\n"
     ]
    }
   ],
   "source": [
    "from sklearn.compose import ColumnTransformer\n",
    "from sklearn.pipeline import Pipeline\n",
    "from sklearn.preprocessing import OneHotEncoder\n",
    "from sklearn.linear_model import LinearRegression\n",
    "from sklearn.metrics import mean_squared_error, mean_absolute_error, r2_score\n",
    "from sklearn.model_selection import train_test_split\n",
    "\n",
    "# Assuming df is your DataFrame and 'Y' is your target column\n",
    "X = df.drop(columns=['medical charges'])\n",
    "y = df['medical charges']\n",
    "\n",
    "# Specify the categorical column names, excluding the target column\n",
    "categorical_features = ['sex', 'smoker', 'region']\n",
    "\n",
    "# Split the data into training and testing sets\n",
    "X_train, X_test, y_train, y_test = train_test_split(X, y, test_size=0.2, random_state=42)\n",
    "\n",
    "# Step 1: ColumnTransformer with OneHotEncoder\n",
    "step1 = ColumnTransformer(transformers=[\n",
    "    ('col_tnf', OneHotEncoder(sparse=False, drop='first'), categorical_features)\n",
    "], remainder='passthrough')\n",
    "\n",
    "# Step 2: Linear Regression\n",
    "step2 = LinearRegression()\n",
    "\n",
    "# Create the pipeline\n",
    "pipe = Pipeline([\n",
    "    ('step1', step1),\n",
    "    ('step2', step2)\n",
    "])\n",
    "\n",
    "# Fit the pipeline on the training data\n",
    "pipe.fit(X_train, y_train)\n",
    "\n",
    "# Make predictions on the test data\n",
    "y_pred = pipe.predict(X_test)\n",
    "\n",
    "# Print regression metrics\n",
    "print('Mean Squared Error:', mean_squared_error(y_test, y_pred))\n",
    "print('Mean Absolute Error:', mean_absolute_error(y_test, y_pred))\n",
    "print('R2 Score:', r2_score(y_test, y_pred))\n"
   ]
  },
  {
   "cell_type": "markdown",
   "id": "18137606",
   "metadata": {
    "papermill": {
     "duration": 0.011646,
     "end_time": "2024-09-11T16:50:44.208080",
     "exception": false,
     "start_time": "2024-09-11T16:50:44.196434",
     "status": "completed"
    },
    "tags": []
   },
   "source": [
    "# Random Forest Regressor"
   ]
  },
  {
   "cell_type": "code",
   "execution_count": 19,
   "id": "b982b1da",
   "metadata": {
    "execution": {
     "iopub.execute_input": "2024-09-11T16:50:44.233531Z",
     "iopub.status.busy": "2024-09-11T16:50:44.233081Z",
     "iopub.status.idle": "2024-09-11T16:50:44.833866Z",
     "shell.execute_reply": "2024-09-11T16:50:44.832706Z"
    },
    "papermill": {
     "duration": 0.616494,
     "end_time": "2024-09-11T16:50:44.836468",
     "exception": false,
     "start_time": "2024-09-11T16:50:44.219974",
     "status": "completed"
    },
    "tags": []
   },
   "outputs": [
    {
     "name": "stderr",
     "output_type": "stream",
     "text": [
      "/opt/conda/lib/python3.10/site-packages/sklearn/preprocessing/_encoders.py:868: FutureWarning: `sparse` was renamed to `sparse_output` in version 1.2 and will be removed in 1.4. `sparse_output` is ignored unless you leave `sparse` to its default value.\n",
      "  warnings.warn(\n"
     ]
    },
    {
     "name": "stdout",
     "output_type": "stream",
     "text": [
      "Mean Squared Error: 18365699.97048805\n",
      "Mean Absolute Error: 2261.4648122792964\n",
      "R2 Score: 0.842831563957079\n"
     ]
    }
   ],
   "source": [
    "from sklearn.compose import ColumnTransformer\n",
    "from sklearn.pipeline import Pipeline\n",
    "from sklearn.preprocessing import OneHotEncoder\n",
    "from sklearn.ensemble import RandomForestRegressor\n",
    "from sklearn.metrics import mean_squared_error, mean_absolute_error, r2_score\n",
    "from sklearn.model_selection import train_test_split\n",
    "\n",
    "# Assuming df is your DataFrame and 'Y' is your target column\n",
    "X = df.drop(columns=['medical charges'])\n",
    "y = df['medical charges']\n",
    "\n",
    "# Specify the categorical column names, excluding the target column\n",
    "categorical_features = ['sex', 'smoker', 'region']\n",
    "\n",
    "# Split the data into training and testing sets\n",
    "X_train, X_test, y_train, y_test = train_test_split(X, y, test_size=0.2, random_state=42)\n",
    "\n",
    "# Step 1: ColumnTransformer with OneHotEncoder\n",
    "step1 = ColumnTransformer(transformers=[\n",
    "    ('col_tnf', OneHotEncoder(sparse=False, drop='first'), categorical_features)\n",
    "], remainder='passthrough')\n",
    "\n",
    "# Step 2: Random Forest Regressor\n",
    "step2 = RandomForestRegressor()\n",
    "\n",
    "# Create the pipeline\n",
    "pipe = Pipeline([\n",
    "    ('step1', step1),\n",
    "    ('step2', step2)\n",
    "])\n",
    "\n",
    "# Fit the pipeline on the training data\n",
    "pipe.fit(X_train, y_train)\n",
    "\n",
    "# Make predictions on the test data\n",
    "y_pred = pipe.predict(X_test)\n",
    "\n",
    "# Print regression metrics\n",
    "print('Mean Squared Error:', mean_squared_error(y_test, y_pred))\n",
    "print('Mean Absolute Error:', mean_absolute_error(y_test, y_pred))\n",
    "print('R2 Score:', r2_score(y_test, y_pred))\n"
   ]
  }
 ],
 "metadata": {
  "kaggle": {
   "accelerator": "none",
   "dataSources": [
    {
     "datasetId": 5435436,
     "sourceId": 9019916,
     "sourceType": "datasetVersion"
    }
   ],
   "dockerImageVersionId": 30746,
   "isGpuEnabled": false,
   "isInternetEnabled": true,
   "language": "python",
   "sourceType": "notebook"
  },
  "kernelspec": {
   "display_name": "Python 3",
   "language": "python",
   "name": "python3"
  },
  "language_info": {
   "codemirror_mode": {
    "name": "ipython",
    "version": 3
   },
   "file_extension": ".py",
   "mimetype": "text/x-python",
   "name": "python",
   "nbconvert_exporter": "python",
   "pygments_lexer": "ipython3",
   "version": "3.10.13"
  },
  "papermill": {
   "default_parameters": {},
   "duration": 9.499549,
   "end_time": "2024-09-11T16:50:45.470077",
   "environment_variables": {},
   "exception": null,
   "input_path": "__notebook__.ipynb",
   "output_path": "__notebook__.ipynb",
   "parameters": {},
   "start_time": "2024-09-11T16:50:35.970528",
   "version": "2.5.0"
  }
 },
 "nbformat": 4,
 "nbformat_minor": 5
}
